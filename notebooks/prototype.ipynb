{
 "cells": [
  {
   "cell_type": "markdown",
   "metadata": {},
   "source": [
    "# NoteBot prototyping\n",
    "\n",
    "Let's have a conversation about your (markdown) notes"
   ]
  },
  {
   "cell_type": "markdown",
   "metadata": {},
   "source": [
    "## Setup\n",
    "\n",
    "Notes:\n",
    "* Use FAISS instead of Chroma because of [sqlite3 compatibility issue](https://docs.trychroma.com/troubleshooting#sqlite)"
   ]
  },
  {
   "cell_type": "code",
   "execution_count": null,
   "metadata": {},
   "outputs": [],
   "source": [
    "import textwrap\n",
    "from typing import Union\n",
    "\n",
    "import gradio as gr\n",
    "from dotenv import load_dotenv\n",
    "from langchain.chains import ConversationalRetrievalChain\n",
    "from langchain.chat_models import ChatOpenAI\n",
    "from langchain.document_loaders import GitLoader\n",
    "from langchain.embeddings import OpenAIEmbeddings\n",
    "from langchain.memory import ConversationBufferMemory\n",
    "from langchain.text_splitter import MarkdownTextSplitter\n",
    "from langchain.vectorstores import FAISS\n",
    "\n",
    "from notebot.constants import DB_PATH, NOTE_REPO_URL, NOTES_PATH"
   ]
  },
  {
   "cell_type": "code",
   "execution_count": null,
   "metadata": {},
   "outputs": [],
   "source": [
    "load_dotenv()"
   ]
  },
  {
   "cell_type": "markdown",
   "metadata": {},
   "source": [
    "## Load, split and ingest notes into vector store\n",
    "\n",
    "Todo:\n",
    "* [x] Persist database\n",
    "* [ ] Improve splitting of documents"
   ]
  },
  {
   "cell_type": "code",
   "execution_count": null,
   "metadata": {},
   "outputs": [],
   "source": [
    "def filter_notes(file_path: str) -> bool:\n",
    "    return file_path.endswith(\".md\") and not file_path.endswith(\"README.md\")"
   ]
  },
  {
   "cell_type": "code",
   "execution_count": null,
   "metadata": {},
   "outputs": [],
   "source": [
    "loader = GitLoader(repo_path=str(NOTES_PATH), clone_url=NOTE_REPO_URL, file_filter=filter_notes)"
   ]
  },
  {
   "cell_type": "code",
   "execution_count": null,
   "metadata": {},
   "outputs": [],
   "source": [
    "if not NOTES_PATH.exists():\n",
    "    raw_docs = loader.load()\n",
    "    splitter = MarkdownTextSplitter()\n",
    "    docs = splitter.split_documents(raw_docs)"
   ]
  },
  {
   "cell_type": "code",
   "execution_count": null,
   "metadata": {},
   "outputs": [],
   "source": [
    "if not DB_PATH.exists():\n",
    "    db = FAISS.from_documents(documents=docs, embedding=OpenAIEmbeddings())\n",
    "    db.save_local(folder_path=str(DB_PATH))\n",
    "else:\n",
    "    db = FAISS.load_local(folder_path=str(DB_PATH), embeddings=OpenAIEmbeddings())"
   ]
  },
  {
   "cell_type": "markdown",
   "metadata": {},
   "source": [
    "## Configure Chain\n",
    "\n",
    "Todo:\n",
    "* Use open source model hosted on HuggingFace hub\n",
    "* Customize prompt to _mainly_ return information from notes\n",
    "* [Include sources in response](https://python.langchain.com/docs/use_cases/question_answering/how_to/chat_vector_db#conversationalretrievalchain-with-question-answering-with-sources)"
   ]
  },
  {
   "cell_type": "code",
   "execution_count": null,
   "metadata": {},
   "outputs": [],
   "source": [
    "llm = ChatOpenAI(temperature=0)\n",
    "memory = ConversationBufferMemory(memory_key=\"chat_history\", return_messages=True)\n",
    "chain = ConversationalRetrievalChain.from_llm(llm=llm, retriever=db.as_retriever(), memory=memory)"
   ]
  },
  {
   "cell_type": "markdown",
   "metadata": {},
   "source": [
    "## Chat with NoteBot"
   ]
  },
  {
   "cell_type": "code",
   "execution_count": null,
   "metadata": {},
   "outputs": [],
   "source": [
    "class NoteBot:\n",
    "    \"\"\"The AI assistant chatting about your notes.\"\"\"\n",
    "\n",
    "    def __init__(self, chain) -> None:\n",
    "        self.chain = chain\n",
    "\n",
    "    def chat(\n",
    "        self, question: str, print_result: bool = True, return_response: bool = False\n",
    "    ) -> Union[None, dict]:\n",
    "        response = self.chain({\"question\": question})\n",
    "        if print_result:\n",
    "            print(textwrap.fill(response[\"answer\"], 88))\n",
    "        if return_response:\n",
    "            return response"
   ]
  },
  {
   "cell_type": "code",
   "execution_count": null,
   "metadata": {},
   "outputs": [],
   "source": [
    "notebot = NoteBot(chain=chain)"
   ]
  },
  {
   "cell_type": "code",
   "execution_count": null,
   "metadata": {},
   "outputs": [],
   "source": [
    "answer = notebot.chat(\"What is an embedding according to fastai?\", return_response=True)"
   ]
  },
  {
   "cell_type": "code",
   "execution_count": null,
   "metadata": {},
   "outputs": [],
   "source": [
    "answer.keys()"
   ]
  },
  {
   "cell_type": "code",
   "execution_count": null,
   "metadata": {},
   "outputs": [],
   "source": [
    "notebot.chat(\"What can I do with the Whisper model from OpenAI when using LangChain?\")"
   ]
  },
  {
   "cell_type": "markdown",
   "metadata": {},
   "source": [
    "## Create user interface\n",
    "\n",
    "TODO:\n",
    "* Use API to query chatbot via CLI"
   ]
  },
  {
   "cell_type": "code",
   "execution_count": null,
   "metadata": {},
   "outputs": [],
   "source": [
    "def chat(message: str, history: list) -> str:\n",
    "    response = notebot.chat(message, print_result=False, return_response=True)\n",
    "\n",
    "    return response[\"answer\"]\n",
    "\n",
    "\n",
    "gr.ChatInterface(\n",
    "    fn=chat,\n",
    "    title=\"NoteBot\",\n",
    "    description=\"### Let's have a chat about your notes\",\n",
    "    examples=[\"List the notes I can ask you about\"],\n",
    ").launch()"
   ]
  }
 ],
 "metadata": {
  "kernelspec": {
   "display_name": "notebot-PwCUCca2-py3.10",
   "language": "python",
   "name": "python3"
  },
  "language_info": {
   "codemirror_mode": {
    "name": "ipython",
    "version": 3
   },
   "file_extension": ".py",
   "mimetype": "text/x-python",
   "name": "python",
   "nbconvert_exporter": "python",
   "pygments_lexer": "ipython3",
   "version": "3.10.8"
  }
 },
 "nbformat": 4,
 "nbformat_minor": 2
}
